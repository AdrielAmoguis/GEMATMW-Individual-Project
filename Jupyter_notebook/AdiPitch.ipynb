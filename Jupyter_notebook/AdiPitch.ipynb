{
 "cells": [
  {
   "cell_type": "markdown",
   "metadata": {},
   "source": [
    "# AdiPitch\n",
    "Pitch extraction notebook algorithm for Python\n",
    "\n",
    "### Chapters 1 & 2 Based on this Guide:\n",
    "https://www.pythonforengineers.com/audio-and-digital-signal-processingdsp-in-python/\n",
    "### Chapter 3 & 4 written by Adriel Isaiah V. Amoguis\n",
    "#### CONTENTS:\n",
    "Chapter 1: Generating a Tone and Saving it to a File<br>\n",
    "Chapter 2: Loading a Wave from a File and Calculating Its Frequency<br>\n",
    "Chapter 3: Extracting the Exact Frequencies From a Segmented Wave<br>\n",
    "Chapter 4: Notes & Documentation"
   ]
  },
  {
   "cell_type": "code",
   "execution_count": 1,
   "metadata": {},
   "outputs": [],
   "source": [
    "# Library Imports\n",
    "import numpy as np\n",
    "import wave\n",
    "import struct\n",
    "from matplotlib import pyplot as plt\n",
    "import random as rand"
   ]
  },
  {
   "cell_type": "markdown",
   "metadata": {},
   "source": [
    "To make frequency categorization a lot easier, let us classify them into arrays. For the application of our audio-cryptosystem, we shall be using the pitches B2 - C5, a total of 26 keys, which corresponds to the 26 letters in the alphabet.<br>\n",
    "<br>\n",
    "Since I'm lazy to list out all the pitch values from C0 to C8, I just listed all their values from octave zero and using theories in harmony of frequencies, generate the rest up the keyboard."
   ]
  },
  {
   "cell_type": "code",
   "execution_count": 141,
   "metadata": {},
   "outputs": [],
   "source": [
    "# Declare & Initialize the Arrays - Use prefix 'f' to denote that it contains a list of frequencies\n",
    "fB = [30.87, 61.74, 123.47, 246.94, 493.88, 987.77, 1975.53, 3951.07]\n",
    "fC = [16.35, 32.70, 65.41, 130.81, 261.63, 523.25, 1046.50, 2093.00]\n",
    "fDb = [17.32, 34.65, 69.30, 138.59, 277.18, 554.37, 1108.73, 2217.46]\n",
    "fD = [18.35, 36.71, 73.42, 146.83, 293.66, 587.33, 1174.66, 2349.32]\n",
    "fEb = [19.45, 38.89, 77.48, 155.56, 311.13, 622.25, 1244.51, 2489.02]\n",
    "fE = [20.60, 41.20, 82.41, 164.81, 329.63, 659.25, 1318.51, 2637.02]\n",
    "fF = [21.83, 43.65, 83.31, 174.61, 349.23, 698.46, 1396.91, 2793.83]\n",
    "fGb = [23.12, 46.25, 92.50, 185.00, 369.99, 739.99, 1479.98, 2959.96]\n",
    "fG = [24.50, 49.00, 98.00, 196.00, 392.00, 783.99, 1567.98, 3135.96]\n",
    "fAb = [25.96, 51.91, 103.83, 207.65, 415.30, 830.61, 1661.22, 3322.44]\n",
    "fA = [27.50, 55.00, 110.00, 220.00, 440.00, 880.00, 1760.00, 3520.00]\n",
    "fBb = [29.14, 58.27, 116.54, 233.08, 466.16, 932.33, 1864.66, 3729.31]"
   ]
  },
  {
   "cell_type": "markdown",
   "metadata": {},
   "source": [
    "## Chapter 1: Generating a Tone"
   ]
  },
  {
   "cell_type": "markdown",
   "metadata": {},
   "source": [
    "The following are macros to use for processing:<br>\n",
    "<br>\n",
    "FREQUENCY = frequency.<br>\n",
    "nSAMPLES = number of samples to take per second (from analog audio signals)<br>\n",
    "SAMPLERATE = HQ (48kHz)<br>\n",
    "AMPLITUDE = height of the wave on the y-axis. Represents the volume of the wave."
   ]
  },
  {
   "cell_type": "code",
   "execution_count": 3,
   "metadata": {},
   "outputs": [],
   "source": [
    "# Set some constants\n",
    "FREQUENCY = 1000\n",
    "nSAMPLES = 48000\n",
    "SAMPLERATE = 48000.0\n",
    "AMPLITUDE = 16000\n",
    "\n",
    "# For testing purposes:\n",
    "file = \"test.wav\""
   ]
  },
  {
   "cell_type": "markdown",
   "metadata": {},
   "source": [
    "For this GEMATMW project, I decided to use a sine wave. But why not Cosine?<br>\n",
    "-> Because the guide I'm following uses a sine wave. Simple as that.<br>\n",
    "<br>\n",
    "Prepare the Sine Wave:"
   ]
  },
  {
   "cell_type": "code",
   "execution_count": 4,
   "metadata": {},
   "outputs": [],
   "source": [
    "# y(t) = A * sin(2 * pi * f * t)\n",
    "\"\"\"\n",
    "    So for this particular sine wave, we are creating nSAMPLES amount of samples. In other words,\n",
    "    we are evaluating the sine function nSAMPLES number of times.\n",
    "\"\"\"\n",
    "sineWave = [np.sin(2 * np.pi * FREQUENCY * x/SAMPLERATE) for x in range(nSAMPLES)]"
   ]
  },
  {
   "cell_type": "markdown",
   "metadata": {},
   "source": [
    "Write the sine wave to an audio file:"
   ]
  },
  {
   "cell_type": "code",
   "execution_count": 5,
   "metadata": {},
   "outputs": [],
   "source": [
    "# Constants for file writing\n",
    "nFrames = nSAMPLES\n",
    "compressionType = \"NONE\"\n",
    "compressionName = \"not compressed\"\n",
    "nCHANNELS = 1\n",
    "SAMPWIDTH = 2"
   ]
  },
  {
   "cell_type": "code",
   "execution_count": 6,
   "metadata": {},
   "outputs": [
    {
     "name": "stdout",
     "output_type": "stream",
     "text": [
      "Filename to write for audio file:\n",
      "testaudiosss.wav\n"
     ]
    }
   ],
   "source": [
    "# Get user input for filename to write\n",
    "print(\"Filename to write for audio file:\")\n",
    "file = str(input())"
   ]
  },
  {
   "cell_type": "code",
   "execution_count": 7,
   "metadata": {},
   "outputs": [],
   "source": [
    "# Create the file\n",
    "wavFile = wave.open(file, 'w')\n",
    "wavFile.setparams((nCHANNELS, SAMPWIDTH, int(SAMPLERATE), nFrames, compressionType, compressionName))"
   ]
  },
  {
   "cell_type": "code",
   "execution_count": 8,
   "metadata": {},
   "outputs": [],
   "source": [
    "# The tedious part: For every single element present in the sine wave (which is continuous),\n",
    "# write the sine function frames unto the file buffer.\n",
    "for e in sineWave:\n",
    "    wavFile.writeframes(struct.pack('h', int(e*AMPLITUDE)))\n",
    "# Multiplying by the amplitude to spread out the y-values\n",
    "# This can also be done by multiplying it to the actual sine function. But apparently, the guide says\n",
    "# this is a better application, in order to create a fixed point.\n",
    "\n",
    "# Using the struct library, we're packing the integer data into a hexadecimal for binary writing.\n",
    "\n",
    "# Close the file:\n",
    "wavFile.close()"
   ]
  },
  {
   "cell_type": "markdown",
   "metadata": {},
   "source": [
    "## Chapter 2: Calculating the Frequency of a Sine Wave\n",
    "It is in this part that we get what we came for -- the frequency of the sine audio wave, which we can use for the audio-cryptosystem."
   ]
  },
  {
   "cell_type": "code",
   "execution_count": 146,
   "metadata": {},
   "outputs": [
    {
     "name": "stdout",
     "output_type": "stream",
     "text": [
      "Filename to read for audio file:\n",
      "D:\\Projects\\Coding\\Python\\AUDIO PROCESSING\\AdiPitch\\\\testAudioCC.wav\n"
     ]
    }
   ],
   "source": [
    "# Get user input for filename to write\n",
    "print(\"Filename to read for audio file:\")\n",
    "file = str(input())\n",
    "#D:\\Projects\\Coding\\Python\\AUDIO PROCESSING\\AdiPitch\\\\testAudio.wav"
   ]
  },
  {
   "cell_type": "code",
   "execution_count": 157,
   "metadata": {},
   "outputs": [],
   "source": [
    "# Open the file\n",
    "wavFile = wave.open(file, 'r')\n",
    "audioData = wavFile.readframes(nSAMPLES)\n",
    "wavFile.close()"
   ]
  },
  {
   "cell_type": "code",
   "execution_count": 158,
   "metadata": {},
   "outputs": [],
   "source": [
    "# Unpack the data from binary (hex) to integers\n",
    "audioData = struct.unpack('{n}h'.format(n=nSAMPLES), audioData)\n",
    "# Convert the data into a numpy array\n",
    "arrData = np.array(audioData)\n",
    "# Get FFT from the data\n",
    "dataFFT = np.fft.fft(arrData)"
   ]
  },
  {
   "cell_type": "code",
   "execution_count": 159,
   "metadata": {},
   "outputs": [],
   "source": [
    "# Convert the complex numbers into numbers we can ACTUALLY USE\n",
    "arrFreq = np.abs(dataFFT)"
   ]
  },
  {
   "cell_type": "code",
   "execution_count": 160,
   "metadata": {
    "scrolled": true
   },
   "outputs": [
    {
     "name": "stdout",
     "output_type": "stream",
     "text": [
      "Dominant Frequency: 233Hz\n"
     ]
    }
   ],
   "source": [
    "# Print the dominant frequency\n",
    "print(\"Dominant Frequency: \" + str(np.argmax(arrFreq)) + \"Hz\")"
   ]
  },
  {
   "cell_type": "markdown",
   "metadata": {},
   "source": [
    "Plot the frequencies found:"
   ]
  },
  {
   "cell_type": "code",
   "execution_count": 161,
   "metadata": {},
   "outputs": [
    {
     "data": {
      "image/png": "[encoded data removed]",
      "text/plain": [
       "<Figure size 432x288 with 2 Axes>"
      ]
     },
     "metadata": {
      "needs_background": "light"
     },
     "output_type": "display_data"
    }
   ],
   "source": [
    "plt.subplot(211)\n",
    "plt.plot(arrData)\n",
    "plt.title(\"Original audio wave\")\n",
    "plt.xlim(34200,35000)\n",
    "plt.subplot(2,1,2)\n",
    "plt.plot(arrFreq)\n",
    "plt.title(\"Frequencies found\")\n",
    "plt.xlim(0,1200)\n",
    "plt.show()"
   ]
  },
  {
   "cell_type": "markdown",
   "metadata": {},
   "source": [
    "## Chapter 3: Moving Away from the Guide - Extracting the Frequencies Needed"
   ]
  },
  {
   "cell_type": "markdown",
   "metadata": {},
   "source": [
    "When reading the audio data, the guide provides us with four different variables we can work with. Namely:<br>\n",
    "    1. audioData - Contains the raw integer array from the data (might not use this)<br>\n",
    "    2. arrData - Raw integers from audioData in a numpy data. The sine wave itself.<br>\n",
    "    3. dataFFT - Contains the integers from the data in a numpy array, but values are complex values.<br>\n",
    "    4. arrFreq - The array that actually contains the frequencies.<br>"
   ]
  },
  {
   "cell_type": "markdown",
   "metadata": {},
   "source": [
    "#### TASK: We have to find the peaks in the audio data with respect to the time they were sampled\n",
    "We shall continue from the already opened audio file in chapter 2."
   ]
  },
  {
   "cell_type": "markdown",
   "metadata": {},
   "source": [
    "### ALGORITHM:\n",
    "1. The data will be segmented based on number of tones as provided by user input key.\n",
    "2. To get the frequency, we count the instances of the wave passing through the x-axis.<br>"
   ]
  },
  {
   "cell_type": "code",
   "execution_count": 162,
   "metadata": {},
   "outputs": [
    {
     "name": "stdout",
     "output_type": "stream",
     "text": [
      "Input key:\n",
      "6\n",
      "[8000, 16000, 24000, 32000, 40000, 48000]\n"
     ]
    }
   ],
   "source": [
    "discont = []\n",
    "print(\"Input key:\")\n",
    "nTones = int(input())\n",
    "factor = nSAMPLES // nTones\n",
    "discont.append(factor)\n",
    "for i in range(1,nTones-1):\n",
    "    discont.append(discont[i-1]+factor)\n",
    "discont.append(48000)\n",
    "print(discont)"
   ]
  },
  {
   "cell_type": "code",
   "execution_count": 163,
   "metadata": {},
   "outputs": [
    {
     "data": {
      "text/plain": [
       "'discont = []\\nthreshold = 1200 # <---- FIND AN OPTIMAL VALUE FOR THE THRESHOLD\\nfor i in range(nSAMPLES-1):\\n    # Get difference\\n    diff = arrData[i+1] - arrData[i]\\n    if abs(diff) > threshold:\\n        discont.append(i)\\n# Append the last element\\ndiscont.append(48000)\\nprint(discont)'"
      ]
     },
     "execution_count": 163,
     "metadata": {},
     "output_type": "execute_result"
    }
   ],
   "source": [
    "# Search for discontinuities present in the wave [OBSOLETE]\n",
    "\"\"\"discont = []\n",
    "threshold = 1200 # <---- FIND AN OPTIMAL VALUE FOR THE THRESHOLD\n",
    "for i in range(nSAMPLES-1):\n",
    "    # Get difference\n",
    "    diff = arrData[i+1] - arrData[i]\n",
    "    if abs(diff) > threshold:\n",
    "        discont.append(i)\n",
    "# Append the last element\n",
    "discont.append(48000)\n",
    "print(discont)\"\"\""
   ]
  },
  {
   "cell_type": "code",
   "execution_count": 164,
   "metadata": {},
   "outputs": [
    {
     "name": "stdout",
     "output_type": "stream",
     "text": [
      "Start = 0\n",
      "End = 8000\n",
      "Start = 8001\n",
      "End = 16000\n",
      "Start = 16001\n",
      "End = 24000\n",
      "Start = 24001\n",
      "End = 32000\n",
      "Start = 32001\n",
      "End = 40000\n",
      "Start = 40001\n",
      "End = 48000\n"
     ]
    }
   ],
   "source": [
    "# We slice arrFreq according to segments\n",
    "segmentList = []\n",
    "start = 0\n",
    "end = discont[0]\n",
    "for i in range(0, len(discont)):\n",
    "    end = discont[i]\n",
    "    print(\"Start = \" + str(start) + \"\\nEnd = \" + str(end))\n",
    "    segmentList.append(arrData[start:end])\n",
    "    temp = end + 1\n",
    "    start = temp\n",
    "#print(segmentList)"
   ]
  },
  {
   "cell_type": "markdown",
   "metadata": {},
   "source": [
    "### Find sign changes. These are counted as x-axis passes. \n",
    "We shall use the frequency ratio I derived below:<br>\n",
    "#### FREQUENCY = (48000*C) / B\n",
    "where, <br>\n",
    "f = frequency<br>\n",
    "C = number of x-axis passes divided by 2<br>\n",
    "B = sample number of the last sample with the x-axis pass"
   ]
  },
  {
   "cell_type": "markdown",
   "metadata": {},
   "source": [
    "Detect sign changes in the \"arrData\" array after segmentation based on the discontinuities found in the previous cell."
   ]
  },
  {
   "cell_type": "code",
   "execution_count": 168,
   "metadata": {},
   "outputs": [
    {
     "name": "stdout",
     "output_type": "stream",
     "text": [
      "[234.05851462865718, 234.08778291859448, 234.08778291859448, 261.09791171689386, 264.0990371389271, 174.06527447792922]\n"
     ]
    }
   ],
   "source": [
    "# Find sign changes\n",
    "segmentFreq = []\n",
    "for i in range(len(segmentList)):\n",
    "    nIntersect = 0\n",
    "    for j in range(len(segmentList[i])-1):\n",
    "        #print(str(segmentList[i][j]) + \" && \" + str(segmentList[i][j+1]))\n",
    "        if segmentList[i][j] == 0 and segmentList[i][j+1] > 0:\n",
    "            nIntersect += 1\n",
    "        elif segmentList[i][j] == 0 and segmentList[i][j+1] < 0:\n",
    "            nIntersect += 1\n",
    "        elif segmentList[i][j] < 0 and segmentList[i][j+1] > 0:\n",
    "            nIntersect += 1\n",
    "        elif segmentList[i][j] > 0 and segmentList[i][j+1] < 0:\n",
    "            nIntersect += 1\n",
    "    # Calculate the frequency using the formula\n",
    "    #print(nIntersect)\n",
    "    segmentFreq.append((48000 * (nIntersect/2))/j)\n",
    "print(segmentFreq)"
   ]
  },
  {
   "cell_type": "markdown",
   "metadata": {},
   "source": [
    "It works! We finally have our frequencies. We shall now do further cleaning to get the frequency itself, given a tolerance threshold."
   ]
  },
  {
   "cell_type": "code",
   "execution_count": 170,
   "metadata": {},
   "outputs": [
    {
     "name": "stdout",
     "output_type": "stream",
     "text": [
      "234.05851462865718\n",
      "Freq = 234.05851462865718 Bounds = 228.08 and 238.08\n",
      "234.08778291859448\n",
      "Freq = 234.08778291859448 Bounds = 228.08 and 238.08\n",
      "234.08778291859448\n",
      "Freq = 234.08778291859448 Bounds = 228.08 and 238.08\n",
      "261.09791171689386\n",
      "Freq = 261.09791171689386 Bounds = 256.63 and 266.63\n",
      "264.0990371389271\n",
      "Freq = 264.0990371389271 Bounds = 256.63 and 266.63\n",
      "174.06527447792922\n",
      "Freq = 174.06527447792922 Bounds = 169.61 and 179.61\n",
      "['Bb3', 'Bb3', 'Bb3', 'C4', 'C4', 'F3']\n"
     ]
    }
   ],
   "source": [
    "threshold = 5 # cents\n",
    "finalFrequencies = []\n",
    "for i in segmentFreq:\n",
    "    found = 0\n",
    "    print(i)\n",
    "    for j in range(len(fA)):\n",
    "        if i >= fA[j]-threshold and i <= fA[j]+threshold and not found:\n",
    "            print(\"Freq = \" + str(i) + \" Bounds = \" + str(fA[j]-threshold) + \" and \" + str(fA[j]+threshold))\n",
    "            finalFrequencies.append(\"A\" + str(j))\n",
    "            found = 1\n",
    "        elif i >= fBb[j]-threshold and i <= fBb[j]+threshold and not found:\n",
    "            found = 1\n",
    "            finalFrequencies.append(\"Bb\" + str(j))\n",
    "            print(\"Freq = \" + str(i) + \" Bounds = \" + str(fBb[j]-threshold) + \" and \" + str(fBb[j]+threshold))\n",
    "        elif i >= fB[j]-threshold and i <= fB[j]+threshold and not found:\n",
    "            finalFrequencies.append(\"B\" + str(j))\n",
    "            found = 1\n",
    "            print(\"Freq = \" + str(i) + \" Bounds = \" + str(fB[j]-threshold) + \" and \" + str(fB[j]+threshold))\n",
    "        elif i >= fC[j]-threshold and i <= fC[j]+threshold and not found:\n",
    "            found = 1\n",
    "            finalFrequencies.append(\"C\" + str(j))\n",
    "            print(\"Freq = \" + str(i) + \" Bounds = \" + str(fC[j]-threshold) + \" and \" + str(fC[j]+threshold))\n",
    "        elif i >= fDb[j]-threshold and i <= fDb[j]+threshold and not found:\n",
    "            found = 1\n",
    "            finalFrequencies.append(\"Db\" + str(j))\n",
    "            print(\"Freq = \" + str(i) + \" Bounds = \" + str(fDb[j]-threshold) + \" and \" + str(fDb[j]+threshold))\n",
    "        elif i >= fD[j]-threshold and i <= fD[j]+threshold and not found:\n",
    "            found = 1\n",
    "            finalFrequencies.append(\"D\" + str(j))\n",
    "            print(\"Freq = \" + str(i) + \" Bounds = \" + str(fD[j]-threshold) + \" and \" + str(fD[j]+threshold))\n",
    "        elif i >= fEb[j]-threshold and i <= fEb[j]+threshold and not found:\n",
    "            found = 1\n",
    "            finalFrequencies.append(\"Eb\" + str(j))\n",
    "            print(\"Freq = \" + str(i) + \" Bounds = \" + str(fEb[j]-threshold) + \" and \" + str(fEb[j]+threshold))\n",
    "        elif i >= fE[j]-threshold and i <= fE[j]+threshold and not found:\n",
    "            found = 1\n",
    "            finalFrequencies.append(\"E\" + str(j))\n",
    "            print(\"Freq = \" + str(i) + \" Bounds = \" + str(fE[j]-threshold) + \" and \" + str(fE[j]+threshold))\n",
    "        elif i >= fF[j]-threshold and i <= fF[j]+threshold and not found:\n",
    "            found = 1\n",
    "            finalFrequencies.append(\"F\" + str(j))\n",
    "            print(\"Freq = \" + str(i) + \" Bounds = \" + str(fF[j]-threshold) + \" and \" + str(fF[j]+threshold))\n",
    "        elif i >= fGb[j]-threshold and i <= fGb[j]+threshold and not found:\n",
    "            found = 1\n",
    "            finalFrequencies.append(\"Gb\" + str(j))\n",
    "            print(\"Freq = \" + str(i) + \" Bounds = \" + str(fGb[j]-threshold) + \" and \" + str(fGb[j]+threshold))\n",
    "        elif i >= fG[j]-threshold and i <= fG[j]+threshold and not found:\n",
    "            found = 1\n",
    "            finalFrequencies.append(\"G\" + str(j))\n",
    "            print(\"Freq = \" + str(i) + \" Bounds = \" + str(fG[j]-threshold) + \" and \" + str(fG[j]+threshold))\n",
    "        elif i >= fAb[j]-threshold and i <= fAb[j]+threshold and not found:\n",
    "            found = 1\n",
    "            finalFrequencies.append(\"Ab\" + str(j))\n",
    "            print(\"Freq = \" + str(i) + \" Bounds = \" + str(fAb[j]-threshold) + \" and \" + str(fAb[j]+threshold))\n",
    "    if not found:\n",
    "        finalFrequencies.append(\"???\")\n",
    "print(finalFrequencies)"
   ]
  },
  {
   "cell_type": "markdown",
   "metadata": {},
   "source": [
    "### Success!\n",
    "We have found the corresponding frequencies from the fragmented audio file."
   ]
  },
  {
   "cell_type": "markdown",
   "metadata": {},
   "source": [
    "## Chapter 4: Algorithm Summary, Notes, & Documentation"
   ]
  },
  {
   "cell_type": "markdown",
   "metadata": {},
   "source": [
    "### Tone Generation\n",
    "Tone generation using this system is simple. We're simply generating tones given a frequency. The question, however, is how do we generate multiple tones within the same 48,000 samples? The simple answer to that is providing domain restrictions to each tone, similar to how one would generate a piecewise function. An example of this implementation is found in the final implementation of the GEMATMW cryptosystem that I developed.<br>\n",
    "### File Formatting, Writing, & Reading\n",
    "In order to write the 48,000 data points to a file, we write it specifically to the format of a WAVE file (.wav file extension). Additionally, in order for this wave to be read by media players, it has to be saved in binary format using hexadecimal values (base 16 integers). The way Python saves this is using the struct library, specifically, the pack and unpack functions. This library is strict in terms of buffer size. If the buffer size is lesser than the size of 96,000 bytes (for this implementation), it causes an exception, which may happen if the audio file lacked some bytes. The GEMATMW cryptosystem implementation for this is programmed in such a way that it will avoid every single possibility of this happening, though I cannot guarantee yet as of now.<br>\n",
    "### Calculating For the Frequency\n",
    "I will no longer explain the algorithm used in Chapter 2, since it is not my own code. I will only explain from where we left off from chapter 2 and go into chapter 3.<br>\n",
    "After reading the file and storing all sine data points into an array \"arrData\" which was done in Chapter 2 (code is not mine), we start chapter 3 by segmenting this array into *n* number of segments, where *n* is an integer that simply denotes the number of different frequencies stored in that one wave file.<br>\n",
    "After evenly splitting the whole array of data into different segments (*y* values of the sine function with respect to time *x*), we shall begin counting the number of times the sine wave (done by segment) passes through the x-axis. In this implementation, that was done by checking if there are any sign changes for any two data points. If a sign change was found, that indicates that the y-value passed through the x-axis. We shall call this number of instances as *C*. We also record the last data point in the segment with the variable *B*. Following the definition of the sine function (http://digitalsoundandmusic.com/2-1-2-properties-of-sine-waves/), I derived the following ratio for this implementation:\n",
    "\n",
    "<strong>FREQUENCY = (48000*C) / B</strong><br>\n",
    "where,<br>\n",
    "f = frequency<br>\n",
    "C = number of x-axis passes divided by 2<br>\n",
    "B = sample number of the last sample with the x-axis pass<br>\n",
    "<br>\n",
    "This was derived with the assumptions that:<br>\n",
    "A. The maximum amplitude *A* for this implementation will always be 16kHz.<br>\n",
    "B. The number of samples/data points for this implementation will always be 48,000.<br>\n",
    "C. The sample rate for this implementation will always be 48kHz/second (this is why audio files for this implementation is only limited to a duration of 1 second).<br>\n",
    "<br>\n",
    "The ratio was developed using the follwing logic:<br>\n",
    "Actual Frequency (Number of Sine Cycles) : 48,000 :: Segment Frequency (Segment # of Sine Cycles) : Last Sample Number for the Segment (*B*)<br>\n",
    "Therefore, segment frequency is found.<br>\n",
    "### Classifying Frequencies to Pitch Names\n",
    "In cell no. 2 of this Jupyter Notebook, I defined the different frequencies of musical concert pitches and stored them in an array based on pitch name. As an example:<br>\n",
    "<br>\n",
    "Concert A4 is stored as fA[4], where f is just an array prefix just to tell me that it contains frequencies (see: Programming in Hungrarian Notation)<br>\n",
    "Similarly, the pitch Concert F5 is stored as fF[5].<br>\n",
    "<br>\n",
    "<strong>NOTE:</strong> I defined pitches from octave 0 to octave 7 only.<br>\n",
    "Pitch list uses flats instead of sharps. C# == Db<br>\n",
    "<br>\n",
    "Since we cannot accurately calculate for frequencies on-point, the frequencies we get from this algorithm do have a deviation of about +- 5 on average from the actual frequency value. Because of this, we need to accept a certain threshold of values to be classified into a valid pitch. So, we accept a frequency and classify it as pitch name *X* for example if *x-threshold <= frequency <= x+threshold*.<br>\n",
    "### Implementation in the GEMATMW Cryptosystem\n",
    "In the cryptosystem, we generate an audio file with varying tones depending on a user input string (plain text). The audio file will serve as our cipher message, paired with a generated key in base64. For decryption, an audio file and base64 key is fed into the decryptor, checks pitch names, and converts them into the plain text message."
   ]
  },
  {
   "cell_type": "markdown",
   "metadata": {},
   "source": [
    "# Appendices\n",
    "<hr>"
   ]
  },
  {
   "cell_type": "markdown",
   "metadata": {},
   "source": [
    "## Author's Information\n",
    "### Adriel Isaiah V. Amoguis\n",
    "Student in the Bachelor's Course Computer Science with Specialization in Software Technology in De La Salle University - Manila.<br>\n",
    "### What's GEMATMW?\n",
    "Just in case the one reading this isn't from De La Salle University, GEMATMW stands for the Commission on Higher Education's subject \"Mathematics in the Modern World\". This project is in partial fullfilments of the requirements for my GEMATMW subject, doing it for my individual project. Since this is a pretty neat sound processing idea, I will make this Jupyter notebook public, only after I complete my GEMATMW units, just in case making this public breaches any academic honesty policies or something.\n",
    "<br>\n",
    "### Project Information\n",
    "Project Started: March 27, 2020<br>\n",
    "Project Completed: March 31, 2020<br>\n",
    "### References Used\n",
    "Code & Logic for Chapters 1 & 2: https://www.pythonforengineers.com/audio-and-digital-signal-processingdsp-in-python/<br>\n",
    "More Technical Definition of the Sine Function in Chapter 3: http://digitalsoundandmusic.com/2-1-2-properties-of-sine-waves/<br>\n",
    "My personal notes on programming logic formulation and trigonometry."
   ]
  },
  {
   "cell_type": "markdown",
   "metadata": {},
   "source": [
    "March 31, 2020<br>\n",
    "===== END OF NOTEBOOK ====="
   ]
  },
  {
   "cell_type": "code",
   "execution_count": null,
   "metadata": {},
   "outputs": [],
   "source": []
  }
 ],
 "metadata": {
  "kernelspec": {
   "display_name": "Python 3",
   "language": "python",
   "name": "python3"
  },
  "language_info": {
   "codemirror_mode": {
    "name": "ipython",
    "version": 3
   },
   "file_extension": ".py",
   "mimetype": "text/x-python",
   "name": "python",
   "nbconvert_exporter": "python",
   "pygments_lexer": "ipython3",
   "version": "3.8.2"
  }
 },
 "nbformat": 4,
 "nbformat_minor": 4
}
